{
 "cells": [
  {
   "cell_type": "code",
   "execution_count": 1,
   "metadata": {},
   "outputs": [
    {
     "name": "stderr",
     "output_type": "stream",
     "text": [
      "C:\\Users\\yanin\\AppData\\Local\\Temp\\ipykernel_2512\\2858094301.py:5: DtypeWarning: Columns (10) have mixed types. Specify dtype option on import or set low_memory=False.\n",
      "  df = pd.read_csv(file_path)\n",
      "C:\\Users\\yanin\\AppData\\Local\\Temp\\ipykernel_2512\\2858094301.py:18: FutureWarning: The default of observed=False is deprecated and will be changed to True in a future version of pandas. Pass observed=False to retain current behavior or observed=True to adopt the future default and silence this warning.\n",
      "  sample_df = df_clean.groupby('popularity_bin', group_keys=False).apply(\n",
      "C:\\Users\\yanin\\AppData\\Local\\Temp\\ipykernel_2512\\2858094301.py:18: DeprecationWarning: DataFrameGroupBy.apply operated on the grouping columns. This behavior is deprecated, and in a future version of pandas the grouping columns will be excluded from the operation. Either pass `include_groups=False` to exclude the groupings or explicitly select the grouping columns after groupby to silence this warning.\n",
      "  sample_df = df_clean.groupby('popularity_bin', group_keys=False).apply(\n"
     ]
    },
    {
     "name": "stdout",
     "output_type": "stream",
     "text": [
      "Archivo guardado en: C:\\Users\\yanin\\Downloads\\movies_dataset_modified.csv\n"
     ]
    }
   ],
   "source": [
    "import ast\n",
    "import pandas as pd\n",
    "# Cargar el archivo CSV\n",
    "file_path = \"C:\\\\Users\\\\yanin\\\\Downloads\\\\movies_dataset.csv\"\n",
    "df = pd.read_csv(file_path)\n",
    "\n",
    "\n",
    "# Convertir la columna 'popularity' a numérico\n",
    "df['popularity'] = pd.to_numeric(df['popularity'], errors='coerce')\n",
    "\n",
    "# Eliminar filas con valores nulos en 'popularity'\n",
    "df_clean = df.dropna(subset=['popularity']).copy()\n",
    "\n",
    "# Estratificar por cuartiles de popularidad\n",
    "df_clean['popularity_bin'] = pd.qcut(df_clean['popularity'], q=4, duplicates='drop')\n",
    "\n",
    "# Tomar una muestra estratificada de 1000 filas, evitando errores con pocos datos\n",
    "sample_df = df_clean.groupby('popularity_bin', group_keys=False).apply(\n",
    "    lambda x: x.sample(min(len(x), 1000 // df_clean['popularity_bin'].nunique()), random_state=42)\n",
    ").copy()\n",
    "\n",
    "# Eliminar la columna auxiliar\n",
    "sample_df = sample_df.drop(columns=['popularity_bin'])\n",
    "\n",
    "# Convertir la columna 'belongs_to_collection' a diccionarios\n",
    "sample_df[\"belongs_to_collection\"] = sample_df[\"belongs_to_collection\"].apply(\n",
    "    lambda x: ast.literal_eval(x) if isinstance(x, str) and pd.notna(x) else None\n",
    ")\n",
    "\n",
    "# Desanidar valores en un nuevo DataFrame\n",
    "df_collection = sample_df[\"belongs_to_collection\"].apply(\n",
    "    lambda x: {\"idCollection\": x.get(\"id\"), \"nameCollection\": x.get(\"name\")} if isinstance(x, dict) else None\n",
    ").apply(pd.Series)\n",
    "\n",
    "# Convertir 'idCollection' a Int64 (soporta valores nulos)\n",
    "df_collection[\"idCollection\"] = df_collection[\"idCollection\"].astype(\"Int64\")\n",
    "\n",
    "# Verificar valores nulos en release_date antes y después de la conversión\n",
    "null_dates = df[\"release_date\"].isnull().sum()\n",
    "df[\"release_date\"] = pd.to_datetime(df[\"release_date\"], errors=\"coerce\")\n",
    "null_dates_after = df[\"release_date\"].isnull().sum()\n",
    "\n",
    "# Extraer el año de la fecha de estreno\n",
    "df[\"release_year\"] = df[\"release_date\"].dt.year\n",
    "\n",
    "# Eliminar filas donde 'release_date' sigue siendo nulo\n",
    "df = df.dropna(subset=['release_date'])\n",
    "\n",
    "# Verificar el cambio\n",
    "df[['release_date', 'release_year']].head()\n",
    "\n",
    "# Convertir 'revenue' y 'budget' a valores numéricos, reemplazando errores con 0\n",
    "df[\"revenue\"] = pd.to_numeric(df[\"revenue\"], errors=\"coerce\").fillna(0)\n",
    "df[\"budget\"] = pd.to_numeric(df[\"budget\"], errors=\"coerce\").fillna(0)\n",
    "\n",
    "# Calcular el retorno de inversión (ROI)\n",
    "df[\"return\"] = df.apply(lambda x: x[\"revenue\"] / x[\"budget\"] if x[\"budget\"] > 0 else 0, axis=1)\n",
    "\n",
    "# Mostrar las primeras filas con la nueva columna\n",
    "df[[\"revenue\", \"budget\", \"return\"]].head()\n",
    "\n",
    "# Eliminar las columnas no utilizadas\n",
    "columns_to_drop = [\"video\", \"imdb_id\", \"adult\", \"original_title\", \"poster_path\", \"homepage\"]\n",
    "df = df.drop(columns=columns_to_drop, errors=\"ignore\")\n",
    "\n",
    "# Verificar que las columnas fueron eliminadas\n",
    "df.head()\n",
    "\n",
    "# Guardar el DataFrame modificado en un nuevo archivo CSV\n",
    "output_file_path = \"C:\\\\Users\\\\yanin\\\\Downloads\\\\movies_dataset_modified.csv\"\n",
    "df.to_csv(output_file_path, index=False)\n",
    "\n",
    "print(f\"Archivo guardado en: {output_file_path}\")\n"
   ]
  }
 ],
 "metadata": {
  "kernelspec": {
   "display_name": "Python 3",
   "language": "python",
   "name": "python3"
  },
  "language_info": {
   "codemirror_mode": {
    "name": "ipython",
    "version": 3
   },
   "file_extension": ".py",
   "mimetype": "text/x-python",
   "name": "python",
   "nbconvert_exporter": "python",
   "pygments_lexer": "ipython3",
   "version": "3.12.3"
  }
 },
 "nbformat": 4,
 "nbformat_minor": 2
}
